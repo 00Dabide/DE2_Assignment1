{
 "cells": [
  {
   "cell_type": "code",
   "execution_count": 1,
   "id": "758efc2b",
   "metadata": {},
   "outputs": [
    {
     "name": "stdout",
     "output_type": "stream",
     "text": [
      "Requirement already satisfied: pycryptodomex in /Users/myitzu/anaconda3/lib/python3.11/site-packages (3.19.0)\r\n"
     ]
    }
   ],
   "source": [
    "!pip install pycryptodomex"
   ]
  },
  {
   "cell_type": "code",
   "execution_count": 2,
   "id": "ef0a4ba7",
   "metadata": {},
   "outputs": [
    {
     "name": "stdout",
     "output_type": "stream",
     "text": [
      "/Users/myitzu/Desktop\n"
     ]
    }
   ],
   "source": [
    "import os\n",
    "\n",
    "from pathlib import Path\n",
    "\n",
    "from Cryptodome.Cipher import PKCS1_OAEP\n",
    "from Cryptodome.PublicKey import RSA\n",
    "\n",
    "PROJECTFOLDER = os.getcwd()\n",
    "print(PROJECTFOLDER)"
   ]
  },
  {
   "cell_type": "code",
   "execution_count": 3,
   "id": "f131d8d2",
   "metadata": {},
   "outputs": [
    {
     "name": "stdout",
     "output_type": "stream",
     "text": [
      "/Users/myitzu/Desktop/my_keypair.pub\n"
     ]
    }
   ],
   "source": [
    "PUBLIC_KEY_FILE = PROJECTFOLDER + \"/my_keypair.pub\"\n",
    "\n",
    "print(PUBLIC_KEY_FILE)\n",
    "\n",
    "assert os.path.isfile(PUBLIC_KEY_FILE)"
   ]
  },
  {
   "cell_type": "code",
   "execution_count": 4,
   "id": "6870c13d",
   "metadata": {},
   "outputs": [
    {
     "name": "stdout",
     "output_type": "stream",
     "text": [
      "Encrypted message:\n",
      "b'Qp\\x7f\\xab\\x1c\\xb7\\xdc\\x07\\xca\\xd8[\\xf1D?(\\x9b\\t\\xc9g\\xd2\\x82DTG\\xb9\\xce\\xc3\\'\\xa6\\xbb\\n:\\xa9\\xd3J\\xf9A\\x07Z\\x90dB\\x07\\xb9\\x88\\xa2{\\xd4\\xb8\\x7f\\x02\\x93\\x8d\\x150\\x1c\\x00Vo\\xf2\\x14\\x13\\xe9n\\x95\\xe6y\\xad\\n\\x8c^4\\x00\\xd5;\\xbd\\xfbB\\x0f\\x89\\xb9H\\xdfg\\xdc\\xaf\\xdd\\x86\\xffs\\xd0\\xe6E\\xd0a^;lAf\\xa8\\xe6\\n\\x02\\xd3\\xb0\\xf2\\xeb\\xab\\xf5ID\\xe0\\t]@mj9k\\xedz\\x9d?n\\xf0\\x04U\\n\\x8bYq\\x00\\x9a(Ej\\xeb\\xd3\\xd7\\x8f\\xfb:\\nX0\\xc7\\x8f\\xb2\\xa5g&\\x1f\\xdd\\xc0\\xa5\\xd3\\x08\\x90\\xf1J(\\xe0\\x1a\\xe4#\\x93\\xb7\\xef7~\\xd2nf\\xa0t\\x8c\\xf7\\x06\\xe9\\x1e\\xa8\\xf8#\\x13`\\xe1\\x89!\\xf6\\xa6\\xc6H\\xeb\\x08\\xde\\xd8\\xd7\\xde\\xf7\\'\\x87!C\\x1f\\x7f\\xd4\\x85\\xb4\\x02 \\x9f\\xe7\\x08\\xab\\xa6#&\\xc8a\\xd7\\xff\\xd6\\xc9\\xa46Z\\x9f4\\xfe\\x91\\xf7q\\xae\\xff\\x8fzr\\x89\\x9dQ\\xa8a\\x064u\\xa1+ng\\xd8q\\x87\\xc5\\xa4B.c\\x0b\\xcf\\x84\\x93,\\xcb\\xc1}\\xb5K\\xb6\\xe1}C\\xf8\\x0b)\\xd3qo\\xc2\\xaa-\\x98}\\x05\"(\\xe6+\\x86\\x08CI\\xd2\\x18\\xb0pa\\xb0\\xa5\\xdfe^\\xb6\\xdbw\\xf1\\xe4\\x12\\x86\\xb9\\xd9\\xddH\\x80s\\x9d+=\\xc3 \\xcaZ\\xac\\xc7-3\\xa1\\x0c}\\x08Q6 \\xab\\xad\\xb0\\x1d3+=\\x7f.[\\x93\\xa3\\xb1\\x18\\x84\\x19S\\x11\\x13\\xd5\\xc6\\xfbk\\xc1\\x16\\x9b0\\xfd\\xff\\xbc\\x17\\x9d\\xfam\\x9a\\x81v\\xf5\\xab~Uv\\xb6n\\x10\\x99\\xe0\\xb8\\xb8B\\xa9'\n"
     ]
    }
   ],
   "source": [
    "short_secret_message = \"The pink otter is cheesy\".encode(\"utf-8\")\n",
    "key = RSA.importKey(open(PUBLIC_KEY_FILE).read())\n",
    "public_key_cipher = PKCS1_OAEP.new(key)\n",
    "encrypted_message = public_key_cipher.encrypt(short_secret_message)\n",
    "print(f\"Encrypted message:\")\n",
    "print(encrypted_message)\n",
    "\n",
    "ENCRYPTED_MESSAGE_FILE = PROJECTFOLDER + \"/encrypted_message.bin\"\n",
    "with open(ENCRYPTED_MESSAGE_FILE, \"wb\") as f:\n",
    "    f.write(encrypted_message)"
   ]
  }
 ],
 "metadata": {
  "kernelspec": {
   "display_name": "Python 3 (ipykernel)",
   "language": "python",
   "name": "python3"
  },
  "language_info": {
   "codemirror_mode": {
    "name": "ipython",
    "version": 3
   },
   "file_extension": ".py",
   "mimetype": "text/x-python",
   "name": "python",
   "nbconvert_exporter": "python",
   "pygments_lexer": "ipython3",
   "version": "3.11.4"
  }
 },
 "nbformat": 4,
 "nbformat_minor": 5
}
